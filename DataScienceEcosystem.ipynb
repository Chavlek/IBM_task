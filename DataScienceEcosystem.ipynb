{
 "cells": [
  {
   "cell_type": "markdown",
   "id": "6222fa02-ec36-4d3a-89cd-1d68f3610bc5",
   "metadata": {},
   "source": [
    "# Data Science Tools and Ecosystem"
   ]
  },
  {
   "cell_type": "markdown",
   "id": "fd67317d-0c34-4e9b-8966-c8e0e36117b8",
   "metadata": {},
   "source": [
    "In this notebook, Data Science Tools and Ecosystem are summarized."
   ]
  },
  {
   "cell_type": "markdown",
   "id": "dc546a4d-b802-4b3b-acfb-d5cc755b83ab",
   "metadata": {},
   "source": [
    "Some of the popular languages that Data Scientists use are:\n",
    "1. R\n",
    "2. Python\n",
    "3. C++\n",
    "4. Java\n",
    "5. Julia"
   ]
  },
  {
   "cell_type": "markdown",
   "id": "58bcccaf-9c7e-42c6-aa61-f82b3347e5b6",
   "metadata": {},
   "source": [
    "Some of the commonly used libraries used by Data Scientists include:\n",
    "1. Keras\n",
    "2. Tensorflow\n",
    "3. Pandas\n",
    "4. Numpy\n",
    "5. Seaborn\n",
    "6. Matplotlib"
   ]
  },
  {
   "cell_type": "markdown",
   "id": "c255610e-9288-48f8-b634-7ed6d13ba786",
   "metadata": {},
   "source": [
    "**Objectives:**\n",
    "* Learn what are the popular Data Science languages\n",
    "* Learn what are most common Python libraries used by Data Scientists\n",
    "* Learn how to use markups in Jupyter Notebook\n",
    "* Learn how to write Python expressions in Jupyter Notebook"
   ]
  },
  {
   "cell_type": "markdown",
   "id": "362f6dba-ac4e-43f5-bb00-7dd4418aa587",
   "metadata": {},
   "source": [
    "|Data Science Tools|\n",
    "| -------------|\n",
    "|Jupyter Notebook|\n",
    "|RStudio|\n",
    "|Anaconda|"
   ]
  },
  {
   "cell_type": "markdown",
   "id": "d5e10276-9a25-4d20-9f1e-e9b2fbbe2757",
   "metadata": {},
   "source": [
    "### Below are a few examples of evaluating arithmetic expressions in Python"
   ]
  },
  {
   "cell_type": "code",
   "execution_count": 1,
   "id": "6c98b1b2-5058-43fe-b40a-e30a8ac62efb",
   "metadata": {
    "tags": []
   },
   "outputs": [
    {
     "data": {
      "text/plain": [
       "17"
      ]
     },
     "execution_count": 1,
     "metadata": {},
     "output_type": "execute_result"
    }
   ],
   "source": [
    "# This a simple arithmetic expression to mutiply then add integers\n",
    "(3*4)+5"
   ]
  },
  {
   "cell_type": "code",
   "execution_count": 2,
   "id": "29733dac-8216-4087-b681-ab5bbdf113a5",
   "metadata": {
    "tags": []
   },
   "outputs": [
    {
     "name": "stdout",
     "output_type": "stream",
     "text": [
      "200 minutes is 3.3333333333333335  hours\n"
     ]
    }
   ],
   "source": [
    "# This will convert 200 minutes to hours by diving by 60\n",
    "minutes = 200\n",
    "hours = minutes/60\n",
    "print('200 minutes is',hours,' hours')"
   ]
  },
  {
   "cell_type": "markdown",
   "id": "c903c2bf-a25f-4320-b27c-2dab5cd275a6",
   "metadata": {},
   "source": [
    "## Author\n",
    "Nikola"
   ]
  },
  {
   "cell_type": "code",
   "execution_count": null,
   "id": "f3ecf7c9-0e86-47c8-958f-73c7e415f539",
   "metadata": {},
   "outputs": [],
   "source": []
  }
 ],
 "metadata": {
  "kernelspec": {
   "display_name": "Python",
   "language": "python",
   "name": "conda-env-python-py"
  },
  "language_info": {
   "codemirror_mode": {
    "name": "ipython",
    "version": 3
   },
   "file_extension": ".py",
   "mimetype": "text/x-python",
   "name": "python",
   "nbconvert_exporter": "python",
   "pygments_lexer": "ipython3",
   "version": "3.7.12"
  }
 },
 "nbformat": 4,
 "nbformat_minor": 5
}
